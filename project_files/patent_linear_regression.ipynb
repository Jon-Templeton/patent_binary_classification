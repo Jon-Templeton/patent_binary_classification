{
 "cells": [
  {
   "cell_type": "markdown",
   "metadata": {},
   "source": [
    "# Patent Binary Classification: *Linear Regression*\n",
    "## By Jon Templeton\n",
    "\n",
    "This notebook focuses on building a logistic regression model to classify patents. The dataset `ml_dataset.parquet` includes patent information such as title, abstract, and cpc codes. The goal is to predict a binary label for each patent based on its features.\n",
    "\n",
    "I will only be using columns `[\"cpc_first_4\", \"labels\"]` to train the model. I found that the patent will classify *positive* only if `\"cpc_first_4\" == \"H01L\"`.\n",
    "\n",
    "Steps:\n",
    "1. Data Loading and Cleaning\n",
    "2. Data Preprocessing\n",
    "3. Model Training\n",
    "4. Model Evaluation"
   ]
  },
  {
   "cell_type": "markdown",
   "metadata": {},
   "source": [
    "## Data Loading and Cleaning\n",
    "\n",
    "Load the dataset and perform initial cleaning steps. This includes removing duplicate rows and unnecessary columns, handling missing values, and saving processed subsets to csv for easier reading."
   ]
  },
  {
   "cell_type": "code",
   "execution_count": 1,
   "metadata": {},
   "outputs": [],
   "source": [
    "import pandas as pd\n",
    "\n",
    "# Read data from parquet file\n",
    "df = pd.read_parquet(\"ml_dataset.parquet\")\n",
    "\n",
    "# Remove the duplicates so that we have only one row per patent\n",
    "# Not considering \"code\" column because only need first 4 chars (cpc_first_4)\n",
    "df = df.drop_duplicates(subset=['title', 'abstract', 'ucid', \"cpc_first_4\"], \n",
    "                        keep='first')\n",
    "\n",
    "# Drop all columns except \"cpc_first_4\" and \"labels\"\n",
    "df = df.drop(columns=['title', 'abstract', 'ucid', 'code'])\n",
    "\n",
    "# Remove the rows with missing values\n",
    "df = df.dropna()\n",
    "\n",
    "# Save as a csv for easy reading\n",
    "#df.to_csv('ml_dataset_no_dup.csv')\n",
    "# make a csv of all the rows with labels = 1\n",
    "#df[df['labels'] == 1].to_csv('labels_1_no_dup.csv')"
   ]
  },
  {
   "cell_type": "markdown",
   "metadata": {},
   "source": [
    "## Data Preprocessing\n",
    "\n",
    "The dataset is imbalanced at a ratio greater than 1:700. For better performance, I downsampled the majority class to balance the training data. This helps improve model performance by reducing bias towards the majority class.\n"
   ]
  },
  {
   "cell_type": "code",
   "execution_count": 2,
   "metadata": {},
   "outputs": [],
   "source": [
    "from sklearn.utils import resample\n",
    "from sklearn.preprocessing import LabelEncoder\n",
    "\n",
    "# There is an imbalance in the dataset\n",
    "# Separate majority and minority classes\n",
    "df_majority = df[df['labels'] == 0]\n",
    "df_minority = df[df['labels'] == 1]\n",
    "\n",
    "# Downsample majority class\n",
    "df_majority_downsampled = resample(df_majority, \n",
    "                                   replace=False,\n",
    "                                   n_samples=len(df_minority),  # match minority class\n",
    "                                   random_state=42)\n",
    "\n",
    "# Combine minority class with downsampled majority class\n",
    "df_downsampled = pd.concat([df_majority_downsampled, df_minority])\n",
    "\n",
    "# Encode the \"cpc_4_encoded\" column to numerical values\n",
    "encoder = LabelEncoder()\n",
    "df_downsampled['cpc_4_encoded'] = encoder.fit_transform(df_downsampled['cpc_first_4'])"
   ]
  },
  {
   "cell_type": "markdown",
   "metadata": {},
   "source": [
    "## Model Training\n",
    "\n",
    "Split the preprocessed data into training and testing sets, and train a logistic regression model."
   ]
  },
  {
   "cell_type": "code",
   "execution_count": 3,
   "metadata": {},
   "outputs": [],
   "source": [
    "from sklearn.model_selection import train_test_split\n",
    "from sklearn.linear_model import LogisticRegression\n",
    "\n",
    "# Split data into training and testing sets\n",
    "X_train, X_test, y_train, y_test = train_test_split(df_downsampled['cpc_4_encoded'], \n",
    "                                                    df_downsampled['labels'], \n",
    "                                                    test_size=0.2, \n",
    "                                                    random_state=42)\n",
    "\n",
    "# Model Training\n",
    "model = LogisticRegression()\n",
    "model.fit(X_train.values.reshape(-1, 1), y_train)\n",
    "\n",
    "# Make predictions and evaluate the model\n",
    "predictions = model.predict(X_test.values.reshape(-1, 1))"
   ]
  },
  {
   "cell_type": "markdown",
   "metadata": {},
   "source": [
    "## Model Evaluation\n",
    "\n",
    "Finally, evaluate the model's performance using metrics such as accuracy, precision, recall, and F1 score. These metrics provide a comprehensive view of the model's effectiveness."
   ]
  },
  {
   "cell_type": "code",
   "execution_count": 4,
   "metadata": {},
   "outputs": [
    {
     "name": "stdout",
     "output_type": "stream",
     "text": [
      "Accuracy: 0.8955223880597015, Precision: 0.8205128205128205, Recall: 1.0, F1 Score: 0.9014084507042254\n"
     ]
    }
   ],
   "source": [
    "from sklearn.metrics import accuracy_score, precision_score, recall_score, f1_score\n",
    "\n",
    "# Model Evaluation\n",
    "accuracy = accuracy_score(y_test, predictions)\n",
    "precision = precision_score(y_test, predictions)\n",
    "recall = recall_score(y_test, predictions)\n",
    "f1 = f1_score(y_test, predictions)\n",
    "\n",
    "print(f\"Accuracy: {accuracy}, Precision: {precision}, Recall: {recall}, F1 Score: {f1}\")"
   ]
  },
  {
   "cell_type": "markdown",
   "metadata": {},
   "source": [
    "# Conclusion\n",
    "\n",
    "This notebook has successfully built and evaluated a logistic regression model for patent classification. The model demonstrates reasonable performance across various metrics. \n",
    "\n",
    "In the other notebook `patent_nlp_classification.ipynb`, I built an NLP binary classification by evaluating the columns `[\"title\", \"abstract\", \"labels\"]` instead."
   ]
  }
 ],
 "metadata": {
  "kernelspec": {
   "display_name": "Python 3",
   "language": "python",
   "name": "python3"
  },
  "language_info": {
   "codemirror_mode": {
    "name": "ipython",
    "version": 3
   },
   "file_extension": ".py",
   "mimetype": "text/x-python",
   "name": "python",
   "nbconvert_exporter": "python",
   "pygments_lexer": "ipython3",
   "version": "3.11.4"
  }
 },
 "nbformat": 4,
 "nbformat_minor": 2
}
